{
 "cells": [
  {
   "cell_type": "code",
   "execution_count": 1,
   "id": "0086525d-38dc-4b2c-a655-5ca3450af14b",
   "metadata": {},
   "outputs": [],
   "source": [
    "import matplotlib.pyplot as plt\n",
    "import pandas as pd \n",
    "import seaborn as sns"
   ]
  },
  {
   "cell_type": "code",
   "execution_count": null,
   "id": "6447cae2-d01a-49c0-9eb4-8ea71721a3f4",
   "metadata": {},
   "outputs": [],
   "source": [
    "#load and explore\n",
    "url='https://raw.githubusercontent.com/gabminamedez/spotify-data/refs/heads/master/data.csv'\n",
    "df=pd.read_csv(url)\n",
    "df.head()"
   ]
  },
  {
   "cell_type": "code",
   "execution_count": null,
   "id": "c88633fd-8257-4ba0-9c05-c79c5f3573b4",
   "metadata": {},
   "outputs": [],
   "source": [
    "df.shape"
   ]
  },
  {
   "cell_type": "code",
   "execution_count": null,
   "id": "ee9d1445-2d32-40e3-9cdb-25a9fe9f8bfc",
   "metadata": {},
   "outputs": [],
   "source": [
    "df.info()"
   ]
  },
  {
   "cell_type": "code",
   "execution_count": null,
   "id": "9af11281-66ca-4204-bc3d-49e80c9717a1",
   "metadata": {},
   "outputs": [],
   "source": [
    "#Data cleaning\n",
    "df=df.drop_duplicates()\n",
    "df.isna().sum()"
   ]
  },
  {
   "cell_type": "code",
   "execution_count": null,
   "id": "6020dea8-70d2-477f-a0e4-a4d097098936",
   "metadata": {},
   "outputs": [],
   "source": [
    "#Descriptive Analysis\n",
    "df.select_dtypes(include='number').agg(['mean','median','std'])"
   ]
  },
  {
   "cell_type": "code",
   "execution_count": null,
   "id": "15d13e73-e5b0-4379-8a80-f1ab0e17576a",
   "metadata": {},
   "outputs": [],
   "source": [
    "most_popular = df.loc[df['popularity'].idxmax()]\n",
    "least_popular = df.loc[df['popularity'].idxmin()]"
   ]
  },
  {
   "cell_type": "code",
   "execution_count": null,
   "id": "945efe4a-3aad-45ef-bc1f-d78284ac4c31",
   "metadata": {},
   "outputs": [],
   "source": [
    "print(\"\\nMost popular song:\")\n",
    "print(most_popular[['artists', 'name', 'popularity']])\n",
    "\n",
    "print(\"\\nLeast popular song:\")\n",
    "print(least_popular[['artists', 'name', 'popularity']])"
   ]
  },
  {
   "cell_type": "code",
   "execution_count": null,
   "id": "a9639745-d2ac-4dcc-84a4-d6d88cba2b11",
   "metadata": {},
   "outputs": [],
   "source": [
    "#Grouping & Aggregation\n",
    "if 'genre' in df.columns:\n",
    "    avg_popularity=df.groupby('genre')['popularity'].mean()\n",
    "    print(\"\\nAverage popularity by genre:\")\n",
    "    print(avg_popularity_by_genre.head(10))\n",
    "else:\n",
    "    print(\"\\nNo genre column found in dataset\")"
   ]
  },
  {
   "cell_type": "code",
   "execution_count": null,
   "id": "dddb3c84-11be-4d06-bf09-c7b11815998f",
   "metadata": {},
   "outputs": [],
   "source": [
    "#Visualization\n",
    "top_artist=df['artists'].value_counts().head(10)"
   ]
  },
  {
   "cell_type": "code",
   "execution_count": null,
   "id": "47c032ac-27ab-4f32-ab43-35cd3788f9eb",
   "metadata": {},
   "outputs": [],
   "source": [
    "top_artist.plot(kind='bar',color='skyblue',figsize=(8,4))\n",
    "plt.xlabel('Artist')\n",
    "plt.ylabel('Number of Songs')"
   ]
  },
  {
   "cell_type": "code",
   "execution_count": null,
   "id": "92fa6bdb-b843-418d-b9f5-e56d2dd2b3e8",
   "metadata": {},
   "outputs": [],
   "source": [
    "sns.scatterplot(\n",
    "    x='energy', y='danceability',\n",
    "    data=df, hue='popularity',\n",
    "    palette='viridis', alpha=0.6,\n",
    "    legend=False\n",
    ")\n",
    "plt.title('Energy vs Danceability')\n",
    "plt.xlabel('Energy') \n",
    "plt.ylabel('Danceability') \n",
    "plt.grid(True)"
   ]
  },
  {
   "cell_type": "code",
   "execution_count": null,
   "id": "3827ee24-9b4c-4134-a127-7e03a26e2f79",
   "metadata": {},
   "outputs": [],
   "source": [
    "plt.figure(figsize=(6,4))\n",
    "plt.hist(df['popularity'], bins=20, color='lightgreen', edgecolor='black')\n",
    "plt.title('Distribution of Song Popularity')\n",
    "plt.xlabel('Popularity')\n",
    "plt.ylabel('Count')"
   ]
  },
  {
   "cell_type": "code",
   "execution_count": null,
   "id": "b003158a-c8b4-44b6-ac59-cd5e7625f21d",
   "metadata": {},
   "outputs": [],
   "source": [
    "df.head()"
   ]
  }
 ],
 "metadata": {
  "kernelspec": {
   "display_name": "Python 3 (ipykernel)",
   "language": "python",
   "name": "python3"
  },
  "language_info": {
   "codemirror_mode": {
    "name": "ipython",
    "version": 3
   },
   "file_extension": ".py",
   "mimetype": "text/x-python",
   "name": "python",
   "nbconvert_exporter": "python",
   "pygments_lexer": "ipython3",
   "version": "3.12.7"
  }
 },
 "nbformat": 4,
 "nbformat_minor": 5
}
